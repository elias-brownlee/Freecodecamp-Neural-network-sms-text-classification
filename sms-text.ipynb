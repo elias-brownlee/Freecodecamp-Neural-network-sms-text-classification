import tensorflow as tf
import pandas as pd
from tensorflow import keras
!pip install tensorflow-datasets
import tensorflow_datasets as tfds
import numpy as np
import matplotlib.pyplot as plt

print(tf.__version__)

# get data files
!wget https://cdn.freecodecamp.org/project-data/sms/train-data.tsv
!wget https://cdn.freecodecamp.org/project-data/sms/valid-data.tsv

train_file_path = "train-data.tsv"
test_file_path = "valid-data.tsv"

# Read data
train_dataset = pd.read_csv(
                            'train-data.tsv',sep='\t',
                            header=None,
                            names=['class', 'text']
                            )
valid_dataset = pd.read_csv(
                            'valid-data.tsv',
                             sep='\t',
                             header=None,
                             names=['class', 'text']
                             )
# Preprocess data
def preprocess(df):
    data = df.copy()
    data.loc[data['class'] == 'ham','class'] = 0
    data.loc[data['class'] == 'spam','class'] = 1
    labels = data.pop('class').astype(np.float32)
    data = data.values
    return data, labels
train_data, train_labels = preprocess(train_dataset)
valid_data, valid_labels = preprocess(valid_dataset)
# Map text features to integer sequences
encoder = keras.layers.TextVectorization()
encoder.adapt(train_data)
# Create RNN model
model = tf.keras.Sequential([
    encoder,
    tf.keras.layers.Embedding(
        input_dim=len(encoder.get_vocabulary()),
        output_dim=64,
        mask_zero=True),
    tf.keras.layers.Bidirectional(tf.keras.layers.LSTM(64)),
    tf.keras.layers.Dense(64, activation='relu'),
    tf.keras.layers.Dense(1, activation='sigmoid')
])

model.summary()

model.compile(loss=tf.keras.losses.BinaryCrossentropy(),
              optimizer=tf.keras.optimizers.Adam(1e-4),
              metrics=['accuracy'])
# Stopping condition
callback = tf.keras.callbacks.EarlyStopping(monitor='val_loss',
                                  mode="min", 
                                  patience=3,
                                  restore_best_weights=True)

history = model.fit(x=train_data,y=train_labels, epochs=15,
                    validation_data=(valid_data,valid_labels),
                    callbacks=[callback]
                    )
                    
# function to predict messages based on model
# (should return list containing prediction and label, ex. [0.008318834938108921, 'ham'])
def predict_message(pred_text):
    
    outcome = model.predict(np.array([[pred_text]]))
    
    tag = 'ham'
    if outcome[0][0] >0.5:
        tag = 'spam'
    
    prediction = [outcome[0][0], tag]

    return (prediction)

pred_text = "how are you doing today?"

prediction = predict_message(pred_text)
print(prediction)

# Run this cell to test your function and model. Do not modify contents.
def test_predictions():
  test_messages = ["how are you doing today",
                   "sale today! to stop texts call 98912460324",
                   "i dont want to go. can we try it a different day? available sat",
                   "our new mobile video service is live. just install on your phone to start watching.",
                   "you have won £1000 cash! call to claim your prize.",
                   "i'll bring it tomorrow. don't forget the milk.",
                   "wow, is your arm alright. that happened to me one time too"
                  ]

  test_answers = ["ham", "spam", "ham", "spam", "spam", "ham", "ham"]
  passed = True

  for msg, ans in zip(test_messages, test_answers):
    prediction = predict_message(msg)
    if prediction[1] != ans:
      passed = False

  if passed:
    print("You passed the challenge. Great job!")
  else:
    print("You haven't passed yet. Keep trying.")

test_predictions()
